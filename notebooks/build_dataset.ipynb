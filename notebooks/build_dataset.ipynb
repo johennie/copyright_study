{
 "cells": [
  {
   "cell_type": "markdown",
   "id": "1c19ec06",
   "metadata": {},
   "source": [
    "Python script that connects to Harvard's Caselaw Access Project API, searches for copyright cases and fair use cases"
   ]
  },
  {
   "cell_type": "markdown",
   "id": "7ba1784b",
   "metadata": {},
   "source": [
    "pip install requests\n"
   ]
  },
  {
   "cell_type": "code",
   "execution_count": 6,
   "id": "0f5a56b4",
   "metadata": {},
   "outputs": [],
   "source": [
    "import json\n",
    "import requests\n",
    "import pandas as pd\n",
    "import numpy as np\n",
    "import re"
   ]
  },
  {
   "cell_type": "code",
   "execution_count": 7,
   "id": "78c91747",
   "metadata": {},
   "outputs": [],
   "source": [
    "API_KEY = ''  # Set your API key here or leave it blank if you don't have one but opinions won't be available\n",
    "BASE_URL = 'https://api.case.law/v1/cases/?page_size=600'\n",
    "HEADERS = {'AUTHORIZATION': f'Token {API_KEY}'} if API_KEY else {}"
   ]
  },
  {
   "cell_type": "code",
   "execution_count": 8,
   "id": "22e1c979",
   "metadata": {},
   "outputs": [],
   "source": [
    "def get_cases(query, case_type):\n",
    "    url = f\"{BASE_URL}&search={query}\"\n",
    "    response = requests.get(url, headers=HEADERS)\n",
    "    cases = response.json().get('results', [])\n",
    "    \n",
    "    case_list = []\n",
    "    \n",
    "    for case in cases:\n",
    "        try:\n",
    "            if API_KEY:\n",
    "                opinions = case['casebody']['data']['opinions']\n",
    "                text = ''.join(opinion['text'] for opinion in opinions)\n",
    "                text += case['casebody']['data'].get('head_matter', '')\n",
    "            else:\n",
    "                text = \"\" #\"Opinion not available without API key\"\n",
    "            \n",
    "            case_data = {\n",
    "                \"case_type\": case_type,\n",
    "                \"year\": case['decision_date'][:4],\n",
    "                \"court\": case['court']['name'],\n",
    "                \"jurisdiction\": case['jurisdiction']['name'],\n",
    "                \"opinions\": text\n",
    "            }\n",
    "            case_list.append(case_data)\n",
    "        except Exception as e:\n",
    "            print(f\"Error processing case ID {case['id']}: {e}\")\n",
    "    \n",
    "    return case_list"
   ]
  },
  {
   "cell_type": "code",
   "execution_count": 9,
   "id": "4db41000",
   "metadata": {},
   "outputs": [],
   "source": [
    "def save_cases_to_csv(cases, filename):\n",
    "    df = pd.DataFrame(cases)\n",
    "    df =df.drop_duplicates(keep=False)\n",
    "    df['case_type_encoded'] = df['case_type'].apply(lambda x: 1 if 'copyright' in x else 0)\n",
    "    df = df.rename(columns={'opinions':'text'})\n",
    "    df.to_csv(filename, index=False)"
   ]
  },
  {
   "cell_type": "code",
   "execution_count": 10,
   "id": "cd62a2ee",
   "metadata": {},
   "outputs": [
    {
     "name": "stdout",
     "output_type": "stream",
     "text": [
      "Saved 1200 cases to fairuse_copyright_dataset.csv\n"
     ]
    }
   ],
   "source": [
    "def main():\n",
    "    copyright_cases = get_cases(\"copyright\", \"copyright\")\n",
    "    fair_use_cases = get_cases(\"fair use\", \"fair use\")\n",
    "    \n",
    "    all_cases = copyright_cases + fair_use_cases\n",
    "    \n",
    "    save_cases_to_csv(all_cases, 'fairuse_copyright_dataset.csv')\n",
    "    print(f\"Saved {len(all_cases)} cases to fairuse_copyright_dataset.csv\")\n",
    "\n",
    "if __name__ == '__main__':\n",
    "    main()"
   ]
  },
  {
   "cell_type": "code",
   "execution_count": null,
   "id": "62b20f2f",
   "metadata": {},
   "outputs": [],
   "source": []
  },
  {
   "cell_type": "code",
   "execution_count": null,
   "id": "ee4e1ba6",
   "metadata": {},
   "outputs": [],
   "source": []
  },
  {
   "cell_type": "code",
   "execution_count": null,
   "id": "fe8c6b8d",
   "metadata": {},
   "outputs": [],
   "source": []
  },
  {
   "cell_type": "code",
   "execution_count": null,
   "id": "d7d37a4e",
   "metadata": {},
   "outputs": [],
   "source": []
  },
  {
   "cell_type": "code",
   "execution_count": null,
   "id": "27dbdefd",
   "metadata": {},
   "outputs": [],
   "source": []
  }
 ],
 "metadata": {
  "kernelspec": {
   "display_name": "Python 3 (ipykernel)",
   "language": "python",
   "name": "python3"
  },
  "language_info": {
   "codemirror_mode": {
    "name": "ipython",
    "version": 3
   },
   "file_extension": ".py",
   "mimetype": "text/x-python",
   "name": "python",
   "nbconvert_exporter": "python",
   "pygments_lexer": "ipython3",
   "version": "3.11.8"
  }
 },
 "nbformat": 4,
 "nbformat_minor": 5
}
