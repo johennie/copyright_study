{
 "cells": [
  {
   "cell_type": "markdown",
   "id": "1c19ec06",
   "metadata": {},
   "source": [
    "Python script that connects to Harvard's Caselaw Access Project API, searches for copyright cases and fair use cases"
   ]
  },
  {
   "cell_type": "markdown",
   "id": "7ba1784b",
   "metadata": {},
   "source": [
    "pip install requests\n",
    "<br>\n",
    "take a look at: <br>\n",
    "https://github.com/harvard-lil/cap-examples/blob/develop/README.md\n",
    "<br>\n",
    "https://github.com/harvard-lil/cap-examples/blob/develop/python_wrapper/README.md"
   ]
  },
  {
   "cell_type": "code",
   "execution_count": 1,
   "id": "0f5a56b4",
   "metadata": {},
   "outputs": [],
   "source": [
    "import json\n",
    "import requests\n",
    "import pandas as pd\n",
    "import numpy as np\n",
    "import re"
   ]
  },
  {
   "cell_type": "code",
   "execution_count": 2,
   "id": "78c91747",
   "metadata": {},
   "outputs": [],
   "source": [
    "API_KEY = ''  # Set your API key here or leave it blank if you don't have one but opinions won't be available\n",
    "BASE_URL = 'https://api.case.law/v1/cases/?page_size=600'\n",
    "HEADERS = {'AUTHORIZATION': f'Token {API_KEY}'} if API_KEY else {}"
   ]
  },
  {
   "cell_type": "code",
   "execution_count": 3,
   "id": "7e89811a",
   "metadata": {},
   "outputs": [],
   "source": [
    "disposition_to_outcome = {\n",
    "    'Transfer to another district': 'pending',  \n",
    "    'Remanded to state court': 'pending', \n",
    "    'MDL Transfer': 'pending',  \n",
    "    'Remanded to U.S. Agency': 'pending',  \n",
    "    'Want of prosecution':  'copyright infringement not found',  \n",
    "    'Lack of jurisdiction':  'copyright infringement not found', \n",
    "    'Voluntarily': 'copyright infringement not found', \n",
    "    'Settled': 'copyright infringement not found',  \n",
    "    'Other': 'pending', \n",
    "    'Default': 'copyright infringement found', \n",
    "    'Consent': 'copyright infringement found',  \n",
    "    'Motion before trial': 'copyright infringement found',  \n",
    "    'Jury verdict': 'copyright infringement found', \n",
    "    'Directed verdict': 'copyright infringement found', \n",
    "    'Court trial': 'copyright infringement found', \n",
    "    'Award of arbitrator': 'pending',  \n",
    "    'Stayed pending bankruptcy': 'pending', \n",
    "    'Other': 'pending',  \n",
    "    'Statistical closing': 'copyright infringement not found',  \n",
    "    'Appeal affirmed (magistrate judge)': 'copyright infringement not found',  \n",
    "    'Appeal denied (magistrate judge)': 'copyright infringement found',  \n",
    "    'Copyright infringement not found': 'copyright infringement not found',\n",
    "    'Copyright infringement found' : 'copyright infringement found',\n",
    "    'fair use found': 'fair use found',\n",
    "    'fair use not found': 'fair use not found',\n",
    "    'pending':'pending',\n",
    "    'unknown': 'unknown'\n",
    "}\n",
    "\n",
    "def extract_disposition(opinion_text):\n",
    "    # Check the first page or a subset of the text for disposition\n",
    "    possible_dispositions = disposition_to_outcome.keys()\n",
    "    for disposition in possible_dispositions:\n",
    "        if disposition.lower() in opinion_text.lower():\n",
    "            return disposition_to_outcome[disposition]\n",
    "    return 'unknown'\n"
   ]
  },
  {
   "cell_type": "code",
   "execution_count": 4,
   "id": "22e1c979",
   "metadata": {},
   "outputs": [],
   "source": [
    "def get_cases(query, case_type):\n",
    "    url = f\"{BASE_URL}&search={query}\"\n",
    "    response = requests.get(url, headers=HEADERS)\n",
    "    cases = response.json().get('results', [])\n",
    "    \n",
    "    case_list = []\n",
    "    \n",
    "    for case in cases:\n",
    "        try:\n",
    "            if API_KEY:\n",
    "                opinions = case['casebody']['data']['opinions']\n",
    "                text = ''.join(opinion['text'] for opinion in opinions)\n",
    "                text += case['casebody']['data'].get('head_matter', '')\n",
    "            else:\n",
    "                text = \"\" #\"Opinion not available without API key\"\n",
    "            \n",
    "            outcome = extract_disposition(text)\n",
    "            \n",
    "            case_data = {\n",
    "                \"case_type\": case_type,\n",
    "                \"year\": case['decision_date'][:4],\n",
    "                \"court\": case['court']['name'],\n",
    "                \"jurisdiction\": case['jurisdiction']['name'],\n",
    "                \"opinions\": text,\n",
    "                \"outcome\": outcome\n",
    "            }\n",
    "            case_list.append(case_data)\n",
    "        except Exception as e:\n",
    "            print(f\"Error processing case ID {case['id']}: {e}\")\n",
    "    \n",
    "    return case_list"
   ]
  },
  {
   "cell_type": "code",
   "execution_count": 5,
   "id": "cdd7b02e",
   "metadata": {},
   "outputs": [],
   "source": [
    "# Define the word to column mappings\n",
    "word_list = [\n",
    "    'audiovisual', 'commentary', 'computer program', 'digitization', 'drawing',\n",
    "    'education', 'film', 'format shifting', 'graphic', 'internet', 'music',\n",
    "    'news reporting', 'painting', 'parody', 'photograph', 'research', #'review',\n",
    "    'satire', 'scholarship', 'sculpture', 'space shifting', 'textual', 'unpublished',\n",
    "    'used in government proceeding'\n",
    "]\n",
    "\n",
    "def _build_tags(cases_df):\n",
    "    # Iterate over the holding column and update the tags column\n",
    "    for idx, row in cases_df.iterrows():\n",
    "        holding_text = row['text']\n",
    "        if pd.notna(holding_text):\n",
    "            tags = []\n",
    "            for word in word_list:\n",
    "                if word in holding_text.lower():\n",
    "                    tags.append(word)\n",
    "            cases_df.at[idx, 'tags'] = ', '.join(tags)\n"
   ]
  },
  {
   "cell_type": "code",
   "execution_count": 6,
   "id": "4db41000",
   "metadata": {},
   "outputs": [],
   "source": [
    "def save_cases_to_csv(cases, filename):\n",
    "    df = pd.DataFrame(cases)\n",
    "    df =df.drop_duplicates(keep=False)\n",
    "    df['case_type_encoded'] = df['case_type'].apply(lambda x: 1 if 'copyright' in x else 0)\n",
    "    df = df.rename(columns={'opinions':'text'})\n",
    "    df['tags']=''\n",
    "    _build_tags(df)\n",
    "    df.to_csv(filename, index=False)"
   ]
  },
  {
   "cell_type": "code",
   "execution_count": 7,
   "id": "cd62a2ee",
   "metadata": {},
   "outputs": [
    {
     "name": "stdout",
     "output_type": "stream",
     "text": [
      "Saved 1200 cases to fairuse_copyright_dataset.csv\n"
     ]
    }
   ],
   "source": [
    "def main():\n",
    "    copyright_cases = get_cases(\"copyright\", \"copyright\")\n",
    "    fair_use_cases = get_cases(\"fair use\", \"fair use\")\n",
    "    \n",
    "    all_cases = copyright_cases + fair_use_cases\n",
    "    \n",
    "    save_cases_to_csv(all_cases, 'fairuse_copyright_dataset.csv')\n",
    "    print(f\"Saved {len(all_cases)} cases to fairuse_copyright_dataset.csv\")\n",
    "\n",
    "if __name__ == '__main__':\n",
    "    main()"
   ]
  },
  {
   "cell_type": "code",
   "execution_count": null,
   "id": "62b20f2f",
   "metadata": {},
   "outputs": [],
   "source": []
  },
  {
   "cell_type": "code",
   "execution_count": null,
   "id": "ee4e1ba6",
   "metadata": {},
   "outputs": [],
   "source": []
  },
  {
   "cell_type": "code",
   "execution_count": null,
   "id": "fe8c6b8d",
   "metadata": {},
   "outputs": [],
   "source": []
  },
  {
   "cell_type": "code",
   "execution_count": null,
   "id": "d7d37a4e",
   "metadata": {},
   "outputs": [],
   "source": []
  },
  {
   "cell_type": "code",
   "execution_count": null,
   "id": "27dbdefd",
   "metadata": {},
   "outputs": [],
   "source": []
  }
 ],
 "metadata": {
  "kernelspec": {
   "display_name": "Python 3 (ipykernel)",
   "language": "python",
   "name": "python3"
  },
  "language_info": {
   "codemirror_mode": {
    "name": "ipython",
    "version": 3
   },
   "file_extension": ".py",
   "mimetype": "text/x-python",
   "name": "python",
   "nbconvert_exporter": "python",
   "pygments_lexer": "ipython3",
   "version": "3.11.8"
  }
 },
 "nbformat": 4,
 "nbformat_minor": 5
}
